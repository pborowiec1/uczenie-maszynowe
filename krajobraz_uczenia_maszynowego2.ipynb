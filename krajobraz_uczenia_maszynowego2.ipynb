datapath = Path() / "data" / "lifesat" #Definiujemy ścieżkę do bieżącego katalogu
#Wczytuje zbiory
oecd_bli = pd.read_csv(datapath / "oecd_bli.csv")
gpd_per_capita = pd.read_csv(datapath / "gdp_per_capita.csv")
oecd_bli
gpd_per_capita
#Wstępnie przetwarzamy dane PKB per capita tak, żeby  był uwzględniany wyłącznie 2020 rok i uprośćmy nazwy kolumn
gpd_per_capita_2020 = gpd_per_capita[gpd_per_capita["Year"]==2020]
gpd_per_capita_2020 = gpd_per_capita_2020.rename(
    columns={
        "GDP per capita, PPP (constant 2017 international $)": "GDP per capita (USD)"
    }
)
gpd_per_capita_2020
#Poszukiwane przez nas zadowolenie z życia
oecd_bli["Indicator"].value_counts()
#Dlatego musimy utworzyć tabelę przestawną (pivot table)
oecd_bli = oecd_bli[oecd_bli["INEQUALITY"]=="TOT"]
oecd_bli = oecd_bli.pivot(
    index="Country",
    columns="Indicator",
    values="Value"
)
oecd_bli
oecd_bli = oecd_bli.reset_index()
oecd_bli
#Wyświetlamy podstawowe informacje o dataframe
gpd_per_capita_2020.info()
full_country_stats = oecd_bli.merge(
    gpd_per_capita_2020,
    left_on="Country",
    right_on="Entity",
    how="inner"
)
full_country_stats
full_country_stats = full_country_stats[[
    "Country", "Life satisfaction", "GDP per capita (USD)"
]]
full_country_stats = full_country_stats.sort_values(
    by="GDP per capita (USD)"
)
full_country_stats
full_country_stats.to_csv(
    datapath/ "lifesat_full.csv",
    index=False
)
min_gdp = 23_500
max_gdp = 62_500

country_stats = full_country_stats[
    (full_country_stats["GDP per capita (USD)"] >= min_gdp)
    & (full_country_stats["GDP per capita (USD)"] <= max_gdp)
]
country_stats.to_csv(
    datapath / "lifesat.csv",
    index=False
)
lifesat = pd.read_csv("data/lifesat/lifesat.csv")
lifesat.rename(
    columns={"GDP per capita (USD)": "PKB na mieszkanca (USD)"},
    inplace=True
)
lifesat.rename(columns={"Life satisfaction": "Satysfakcja z zycia"},
               inplace=True)
lifesat
lifesat.plot(kind='scatter', grid=True,
             x="PKB na mieszkanca (USD)", y='Satysfakcja z zycia')
plt.show()
#przygotowuje zmienne w modelu
X = lifesat[["PKB na mieszkanca (USD)"]]
y = lifesat[["Satysfakcja z zycia"]]

#wybiera model liniowy
model = LinearRegression()

#trenujemy model
model.fit(X, y)

obliczamy współczynniki modelu
theta0=model.intercept[0]
theta1=model.coef[0][0]
print(f"theta_0: {theta_0}")
print(f"theta_1: {theta_1}")
model.coef_
#Wizualizujemy dane
lifesat.plot(kind='scatter', grid=True,
             x="PKB na mieszkanca (USD)", y='Satysfakcja z zycia')
plt.plot(X, theta_0+theta_1X)
plt.text(45000, 6.5, fr"$\theta_0 = {theta_0.round(2)}$",
         color="blue")
plt.text(45000, 6.3, fr"$\theta_1 = {theta_1 1e5: .2f}\cdot 10^{{-5}}$",
         color="blue")
plt.show()
cyprus_gdp_per_capita_2020 = (
    gpd_per_capita_2020[gpd_per_capita_2020["Entity"]=="Cyprus"][["GDP per capita (USD)"]]
)
cyprus_gdp_per_capita_2020.rename(
    columns={"GDP per capita (USD)": "PKB na mieszkanca (USD)"},
    inplace=True
)
cyprus_gdp_per_capita_2020
cyprus_predicted_life_satisfaction = model.predict(cyprus_gdp_per_capita_2020)
cyprus_predicted_life_satisfaction
#Wybiera model regresji 3-najbliższych sasiadów
from sklearn.neighbors import KNeighborsRegressor
model_knn = KNeighborsRegressor(n_neighbors=3)

#Trenuje model_knn
model_knn.fit(X, y)

#Uzyskuje przewidywania dla Cypru
model_knn.predict(cyprus_gdp_per_capita_2020)
